{
 "cells": [
  {
   "cell_type": "code",
   "execution_count": 1,
   "metadata": {},
   "outputs": [],
   "source": [
    "import pandas as pd\n",
    "import numpy as np"
   ]
  },
  {
   "cell_type": "code",
   "execution_count": 2,
   "metadata": {},
   "outputs": [],
   "source": [
    "file_to_load = \"Resources/purchase_data.csv\"\n",
    "purchase_data = pd.read_csv(file_to_load)\n"
   ]
  },
  {
   "cell_type": "code",
   "execution_count": 3,
   "metadata": {},
   "outputs": [
    {
     "data": {
      "text/html": [
       "<div>\n",
       "<style scoped>\n",
       "    .dataframe tbody tr th:only-of-type {\n",
       "        vertical-align: middle;\n",
       "    }\n",
       "\n",
       "    .dataframe tbody tr th {\n",
       "        vertical-align: top;\n",
       "    }\n",
       "\n",
       "    .dataframe thead th {\n",
       "        text-align: right;\n",
       "    }\n",
       "</style>\n",
       "<table border=\"1\" class=\"dataframe\">\n",
       "  <thead>\n",
       "    <tr style=\"text-align: right;\">\n",
       "      <th></th>\n",
       "      <th>Total Players</th>\n",
       "    </tr>\n",
       "  </thead>\n",
       "  <tbody>\n",
       "    <tr>\n",
       "      <th>0</th>\n",
       "      <td>576</td>\n",
       "    </tr>\n",
       "  </tbody>\n",
       "</table>\n",
       "</div>"
      ],
      "text/plain": [
       "   Total Players\n",
       "0            576"
      ]
     },
     "execution_count": 3,
     "metadata": {},
     "output_type": "execute_result"
    }
   ],
   "source": [
    "total_players = len(purchase_data[\"SN\"].value_counts())\n",
    "player_count = pd.DataFrame({\"Total Players\":[total_players]})\n",
    "\n",
    "player_count"
   ]
  },
  {
   "cell_type": "code",
   "execution_count": 4,
   "metadata": {},
   "outputs": [
    {
     "data": {
      "text/plain": [
       "183"
      ]
     },
     "execution_count": 4,
     "metadata": {},
     "output_type": "execute_result"
    }
   ],
   "source": [
    "number_of_unique_items = len((purchase_data[\"Item ID\"]).value_counts())\n",
    "\n",
    "number_of_unique_items"
   ]
  },
  {
   "cell_type": "code",
   "execution_count": 5,
   "metadata": {},
   "outputs": [
    {
     "data": {
      "text/plain": [
       "3.050987179487176"
      ]
     },
     "execution_count": 5,
     "metadata": {},
     "output_type": "execute_result"
    }
   ],
   "source": [
    "average_price = purchase_data[\"Price\"].mean()\n",
    "\n",
    "average_price"
   ]
  },
  {
   "cell_type": "code",
   "execution_count": 6,
   "metadata": {},
   "outputs": [
    {
     "data": {
      "text/plain": [
       "780"
      ]
     },
     "execution_count": 6,
     "metadata": {},
     "output_type": "execute_result"
    }
   ],
   "source": [
    "number_of_purchases = purchase_data[\"Purchase ID\"].count()\n",
    "\n",
    "number_of_purchases"
   ]
  },
  {
   "cell_type": "code",
   "execution_count": 7,
   "metadata": {},
   "outputs": [
    {
     "data": {
      "text/plain": [
       "2379.77"
      ]
     },
     "execution_count": 7,
     "metadata": {},
     "output_type": "execute_result"
    }
   ],
   "source": [
    "total_revenue = purchase_data[\"Price\"].sum()\n",
    "\n",
    "total_revenue"
   ]
  },
  {
   "cell_type": "code",
   "execution_count": 8,
   "metadata": {},
   "outputs": [
    {
     "data": {
      "text/html": [
       "<div>\n",
       "<style scoped>\n",
       "    .dataframe tbody tr th:only-of-type {\n",
       "        vertical-align: middle;\n",
       "    }\n",
       "\n",
       "    .dataframe tbody tr th {\n",
       "        vertical-align: top;\n",
       "    }\n",
       "\n",
       "    .dataframe thead th {\n",
       "        text-align: right;\n",
       "    }\n",
       "</style>\n",
       "<table border=\"1\" class=\"dataframe\">\n",
       "  <thead>\n",
       "    <tr style=\"text-align: right;\">\n",
       "      <th></th>\n",
       "      <th>Number of Unique Items</th>\n",
       "      <th>Average Price</th>\n",
       "      <th>Number of Purchases</th>\n",
       "      <th>Total Revenue</th>\n",
       "    </tr>\n",
       "  </thead>\n",
       "  <tbody>\n",
       "    <tr>\n",
       "      <th>0</th>\n",
       "      <td>183</td>\n",
       "      <td>$3.05</td>\n",
       "      <td>780</td>\n",
       "      <td>$2,379.77</td>\n",
       "    </tr>\n",
       "  </tbody>\n",
       "</table>\n",
       "</div>"
      ],
      "text/plain": [
       "   Number of Unique Items Average Price  Number of Purchases Total Revenue\n",
       "0                     183         $3.05                  780     $2,379.77"
      ]
     },
     "execution_count": 8,
     "metadata": {},
     "output_type": "execute_result"
    }
   ],
   "source": [
    "purchasing_analysis = pd.DataFrame([\n",
    "                        {\"Number of Unique Items\": number_of_unique_items,\n",
    "                         \"Average Price\":average_price,\n",
    "                         \"Number of Purchases\": number_of_purchases,\n",
    "                         \"Total Revenue\": total_revenue}])\n",
    "\n",
    "purchasing_analysis[\"Average Price\"] = purchasing_analysis[\"Average Price\"].map(\"${:,.2f}\".format)\n",
    "purchasing_analysis[\"Total Revenue\"] = purchasing_analysis[\"Total Revenue\"].map(\"${:,.2f}\".format)\n",
    "\n",
    "purchasing_analysis"
   ]
  },
  {
   "cell_type": "code",
   "execution_count": 9,
   "metadata": {},
   "outputs": [
    {
     "data": {
      "text/html": [
       "<div>\n",
       "<style scoped>\n",
       "    .dataframe tbody tr th:only-of-type {\n",
       "        vertical-align: middle;\n",
       "    }\n",
       "\n",
       "    .dataframe tbody tr th {\n",
       "        vertical-align: top;\n",
       "    }\n",
       "\n",
       "    .dataframe thead th {\n",
       "        text-align: right;\n",
       "    }\n",
       "</style>\n",
       "<table border=\"1\" class=\"dataframe\">\n",
       "  <thead>\n",
       "    <tr style=\"text-align: right;\">\n",
       "      <th></th>\n",
       "      <th>Gender</th>\n",
       "    </tr>\n",
       "  </thead>\n",
       "  <tbody>\n",
       "    <tr>\n",
       "      <th>Male</th>\n",
       "      <td>651</td>\n",
       "    </tr>\n",
       "    <tr>\n",
       "      <th>Female</th>\n",
       "      <td>113</td>\n",
       "    </tr>\n",
       "    <tr>\n",
       "      <th>Other / Non-Disclosed</th>\n",
       "      <td>15</td>\n",
       "    </tr>\n",
       "  </tbody>\n",
       "</table>\n",
       "</div>"
      ],
      "text/plain": [
       "                       Gender\n",
       "Male                      651\n",
       "Female                    113\n",
       "Other / Non-Disclosed      15"
      ]
     },
     "execution_count": 9,
     "metadata": {},
     "output_type": "execute_result"
    }
   ],
   "source": [
    "gender_sn_age = purchase_data.loc[:,[\"SN\",\"Age\",\"Gender\",\"Price\"]].drop_duplicates()\n",
    "gender_demographics = pd.DataFrame(gender_sn_age[\"Gender\"].value_counts())\n",
    "\n",
    "\n",
    "gender_demographics"
   ]
  },
  {
   "cell_type": "code",
   "execution_count": 10,
   "metadata": {},
   "outputs": [
    {
     "data": {
      "text/plain": [
       "Male                     113.020833\n",
       "Female                    19.618056\n",
       "Other / Non-Disclosed      2.604167\n",
       "Name: Gender, dtype: float64"
      ]
     },
     "execution_count": 10,
     "metadata": {},
     "output_type": "execute_result"
    }
   ],
   "source": [
    "percentage_of_players = (gender_sn_age[\"Gender\"].value_counts()/total_players)*100\n",
    "\n",
    "percentage_of_players"
   ]
  },
  {
   "cell_type": "code",
   "execution_count": 11,
   "metadata": {},
   "outputs": [
    {
     "data": {
      "text/html": [
       "<div>\n",
       "<style scoped>\n",
       "    .dataframe tbody tr th:only-of-type {\n",
       "        vertical-align: middle;\n",
       "    }\n",
       "\n",
       "    .dataframe tbody tr th {\n",
       "        vertical-align: top;\n",
       "    }\n",
       "\n",
       "    .dataframe thead th {\n",
       "        text-align: right;\n",
       "    }\n",
       "</style>\n",
       "<table border=\"1\" class=\"dataframe\">\n",
       "  <thead>\n",
       "    <tr style=\"text-align: right;\">\n",
       "      <th></th>\n",
       "      <th>Gender</th>\n",
       "      <th>Percentage of Players</th>\n",
       "    </tr>\n",
       "  </thead>\n",
       "  <tbody>\n",
       "    <tr>\n",
       "      <th>Male</th>\n",
       "      <td>651</td>\n",
       "      <td>113.02%</td>\n",
       "    </tr>\n",
       "    <tr>\n",
       "      <th>Female</th>\n",
       "      <td>113</td>\n",
       "      <td>19.62%</td>\n",
       "    </tr>\n",
       "    <tr>\n",
       "      <th>Other / Non-Disclosed</th>\n",
       "      <td>15</td>\n",
       "      <td>2.60%</td>\n",
       "    </tr>\n",
       "  </tbody>\n",
       "</table>\n",
       "</div>"
      ],
      "text/plain": [
       "                       Gender Percentage of Players\n",
       "Male                      651               113.02%\n",
       "Female                    113                19.62%\n",
       "Other / Non-Disclosed      15                 2.60%"
      ]
     },
     "execution_count": 11,
     "metadata": {},
     "output_type": "execute_result"
    }
   ],
   "source": [
    "gender_demographics[\"Percentage of Players\"] = percentage_of_players\n",
    "gender_demographics[\"Percentage of Players\"] = gender_demographics[\"Percentage of Players\"].map(\"{:,.2f}%\".format)\n",
    "\n",
    "gender_demographics"
   ]
  },
  {
   "cell_type": "code",
   "execution_count": 12,
   "metadata": {},
   "outputs": [
    {
     "data": {
      "text/plain": [
       "Gender\n",
       "Female                   113\n",
       "Male                     652\n",
       "Other / Non-Disclosed     15\n",
       "Name: Purchase ID, dtype: int64"
      ]
     },
     "execution_count": 12,
     "metadata": {},
     "output_type": "execute_result"
    }
   ],
   "source": [
    "gender_demo = pd.DataFrame(purchase_data[\"Gender\"].value_counts())\n",
    "gender_count = purchase_data.groupby(by=[\"Gender\"]).count()[\"Purchase ID\"]\n",
    "\n",
    "gender_count\n",
    "    \n",
    "# purchasing_analysis = pd.DataFrame([\n",
    "#                         {\"Number of Unique Items\": number_of_unique_items,\n",
    "#                          \"Average Price\":average_price,\n",
    "#                          \"Number of Purchases\": number_of_purchases,\n",
    "#                          \"Total Revenue\": total_revenue}])\n",
    "\n",
    "# purchasing_analysis[\"Average Price\"] = purchasing_analysis[\"Average Price\"].map(\"${:,.2f}\".format)\n",
    "# purchasing_analysis[\"Total Revenue\"] = purchasing_analysis[\"Total Revenue\"].map(\"${:,.2f}\".format)\n",
    "\n",
    "# purchasing_analysis"
   ]
  },
  {
   "cell_type": "code",
   "execution_count": 13,
   "metadata": {},
   "outputs": [
    {
     "data": {
      "text/plain": [
       "Gender\n",
       "Female                   3.203009\n",
       "Male                     3.017853\n",
       "Other / Non-Disclosed    3.346000\n",
       "Name: Price, dtype: float64"
      ]
     },
     "execution_count": 13,
     "metadata": {},
     "output_type": "execute_result"
    }
   ],
   "source": [
    "gender_mean = purchase_data.groupby(by=[\"Gender\"]).mean()[\"Price\"]\n",
    "\n",
    "gender_mean"
   ]
  },
  {
   "cell_type": "code",
   "execution_count": 14,
   "metadata": {},
   "outputs": [
    {
     "data": {
      "text/plain": [
       "Gender\n",
       "Female                    361.94\n",
       "Male                     1967.64\n",
       "Other / Non-Disclosed      50.19\n",
       "Name: Price, dtype: float64"
      ]
     },
     "execution_count": 14,
     "metadata": {},
     "output_type": "execute_result"
    }
   ],
   "source": [
    "total_value =  purchase_data.groupby(by=[\"Gender\"]).sum()[\"Price\"]\n",
    "\n",
    "total_value"
   ]
  },
  {
   "cell_type": "code",
   "execution_count": 15,
   "metadata": {},
   "outputs": [
    {
     "data": {
      "text/plain": [
       "Female                   3.203009\n",
       "Male                     3.022488\n",
       "Other / Non-Disclosed    3.346000\n",
       "dtype: float64"
      ]
     },
     "execution_count": 15,
     "metadata": {},
     "output_type": "execute_result"
    }
   ],
   "source": [
    "total_per_person = total_value/gender_demographics[\"Gender\"]\n",
    "\n",
    "total_per_person"
   ]
  },
  {
   "cell_type": "code",
   "execution_count": 16,
   "metadata": {},
   "outputs": [
    {
     "data": {
      "text/plain": [
       "20-24    365\n",
       "15-19    135\n",
       "25-29    101\n",
       "30-34     73\n",
       "35-39     41\n",
       "10-14     28\n",
       "<10       23\n",
       "40+       13\n",
       "Name: Age_Range, dtype: int64"
      ]
     },
     "execution_count": 16,
     "metadata": {},
     "output_type": "execute_result"
    }
   ],
   "source": [
    "gender_sn_age[\"Age_Range\"] = pd.cut(gender_sn_age[\"Age\"], bins=[0,9.9,14.9,19.9,24.9,29.9,34.9,39.9,200],\n",
    "labels = [\"<10\", \"10-14\",\"15-19\",\"20-24\",\"25-29\",\"30-34\",\"35-39\",\"40+\"])\n",
    "\n",
    "total_count = gender_sn_age[\"Age_Range\"].value_counts()\n",
    "\n",
    "total_count"
   ]
  },
  {
   "cell_type": "code",
   "execution_count": 17,
   "metadata": {},
   "outputs": [
    {
     "data": {
      "text/plain": [
       "20-24    63.368056\n",
       "15-19    23.437500\n",
       "25-29    17.534722\n",
       "30-34    12.673611\n",
       "35-39     7.118056\n",
       "10-14     4.861111\n",
       "<10       3.993056\n",
       "40+       2.256944\n",
       "Name: Age_Range, dtype: float64"
      ]
     },
     "execution_count": 17,
     "metadata": {},
     "output_type": "execute_result"
    }
   ],
   "source": [
    "Percent_of_players = (total_count/total_players)*100\n",
    "\n",
    "Percent_of_players"
   ]
  },
  {
   "cell_type": "code",
   "execution_count": 18,
   "metadata": {},
   "outputs": [
    {
     "data": {
      "text/html": [
       "<div>\n",
       "<style scoped>\n",
       "    .dataframe tbody tr th:only-of-type {\n",
       "        vertical-align: middle;\n",
       "    }\n",
       "\n",
       "    .dataframe tbody tr th {\n",
       "        vertical-align: top;\n",
       "    }\n",
       "\n",
       "    .dataframe thead th {\n",
       "        text-align: right;\n",
       "    }\n",
       "</style>\n",
       "<table border=\"1\" class=\"dataframe\">\n",
       "  <thead>\n",
       "    <tr style=\"text-align: right;\">\n",
       "      <th></th>\n",
       "      <th>Percent of players</th>\n",
       "      <th>Total count</th>\n",
       "    </tr>\n",
       "  </thead>\n",
       "  <tbody>\n",
       "    <tr>\n",
       "      <th>20-24</th>\n",
       "      <td>63.37%</td>\n",
       "      <td>365</td>\n",
       "    </tr>\n",
       "    <tr>\n",
       "      <th>15-19</th>\n",
       "      <td>23.44%</td>\n",
       "      <td>135</td>\n",
       "    </tr>\n",
       "    <tr>\n",
       "      <th>25-29</th>\n",
       "      <td>17.53%</td>\n",
       "      <td>101</td>\n",
       "    </tr>\n",
       "    <tr>\n",
       "      <th>30-34</th>\n",
       "      <td>12.67%</td>\n",
       "      <td>73</td>\n",
       "    </tr>\n",
       "    <tr>\n",
       "      <th>35-39</th>\n",
       "      <td>7.12%</td>\n",
       "      <td>41</td>\n",
       "    </tr>\n",
       "    <tr>\n",
       "      <th>10-14</th>\n",
       "      <td>4.86%</td>\n",
       "      <td>28</td>\n",
       "    </tr>\n",
       "    <tr>\n",
       "      <th>&lt;10</th>\n",
       "      <td>3.99%</td>\n",
       "      <td>23</td>\n",
       "    </tr>\n",
       "    <tr>\n",
       "      <th>40+</th>\n",
       "      <td>2.26%</td>\n",
       "      <td>13</td>\n",
       "    </tr>\n",
       "  </tbody>\n",
       "</table>\n",
       "</div>"
      ],
      "text/plain": [
       "      Percent of players  Total count\n",
       "20-24             63.37%          365\n",
       "15-19             23.44%          135\n",
       "25-29             17.53%          101\n",
       "30-34             12.67%           73\n",
       "35-39              7.12%           41\n",
       "10-14              4.86%           28\n",
       "<10                3.99%           23\n",
       "40+                2.26%           13"
      ]
     },
     "execution_count": 18,
     "metadata": {},
     "output_type": "execute_result"
    }
   ],
   "source": [
    "age_demographics = pd.DataFrame({\"Percent of players\":Percent_of_players,\"Total count\": total_count})\n",
    "age_demographics[\"Percent of players\"] = age_demographics[\"Percent of players\"].map(\"{:.2f}%\".format)\n",
    "\n",
    "age_demographics"
   ]
  },
  {
   "cell_type": "code",
   "execution_count": 19,
   "metadata": {},
   "outputs": [],
   "source": [
    "bin_labels = [\"<10\", \"10-14\", \"15-19\", \"20-24\", \"25-29\", \"30-34\", \"35-39\", \"40+\"]\n",
    "gender_sn_age[\"Age_Range\"] = pd.cut(\n",
    "    purchase_data[\"Age\"],\n",
    "    bins=[0, 9.9, 14.9, 19.9, 24.9, 29.9, 34.9, 39.9, 200],\n",
    "    labels=bin_labels,\n",
    ")\n"
   ]
  },
  {
   "cell_type": "code",
   "execution_count": 49,
   "metadata": {},
   "outputs": [
    {
     "data": {
      "text/html": [
       "<div>\n",
       "<style scoped>\n",
       "    .dataframe tbody tr th:only-of-type {\n",
       "        vertical-align: middle;\n",
       "    }\n",
       "\n",
       "    .dataframe tbody tr th {\n",
       "        vertical-align: top;\n",
       "    }\n",
       "\n",
       "    .dataframe thead tr th {\n",
       "        text-align: left;\n",
       "    }\n",
       "\n",
       "    .dataframe thead tr:last-of-type th {\n",
       "        text-align: right;\n",
       "    }\n",
       "</style>\n",
       "<table border=\"1\" class=\"dataframe\">\n",
       "  <thead>\n",
       "    <tr>\n",
       "      <th></th>\n",
       "      <th colspan=\"3\" halign=\"left\">Price</th>\n",
       "    </tr>\n",
       "    <tr>\n",
       "      <th></th>\n",
       "      <th>count</th>\n",
       "      <th>mean</th>\n",
       "      <th>sum</th>\n",
       "    </tr>\n",
       "    <tr>\n",
       "      <th>Age_Range</th>\n",
       "      <th></th>\n",
       "      <th></th>\n",
       "      <th></th>\n",
       "    </tr>\n",
       "  </thead>\n",
       "  <tbody>\n",
       "    <tr>\n",
       "      <th>&lt;10</th>\n",
       "      <td>23</td>\n",
       "      <td>3.353478</td>\n",
       "      <td>77.13</td>\n",
       "    </tr>\n",
       "    <tr>\n",
       "      <th>10-14</th>\n",
       "      <td>28</td>\n",
       "      <td>2.956429</td>\n",
       "      <td>82.78</td>\n",
       "    </tr>\n",
       "    <tr>\n",
       "      <th>15-19</th>\n",
       "      <td>135</td>\n",
       "      <td>3.040074</td>\n",
       "      <td>410.41</td>\n",
       "    </tr>\n",
       "    <tr>\n",
       "      <th>20-24</th>\n",
       "      <td>365</td>\n",
       "      <td>3.052219</td>\n",
       "      <td>1114.06</td>\n",
       "    </tr>\n",
       "    <tr>\n",
       "      <th>25-29</th>\n",
       "      <td>101</td>\n",
       "      <td>2.900990</td>\n",
       "      <td>293.00</td>\n",
       "    </tr>\n",
       "    <tr>\n",
       "      <th>30-34</th>\n",
       "      <td>73</td>\n",
       "      <td>2.931507</td>\n",
       "      <td>214.00</td>\n",
       "    </tr>\n",
       "    <tr>\n",
       "      <th>35-39</th>\n",
       "      <td>41</td>\n",
       "      <td>3.601707</td>\n",
       "      <td>147.67</td>\n",
       "    </tr>\n",
       "    <tr>\n",
       "      <th>40+</th>\n",
       "      <td>13</td>\n",
       "      <td>2.941538</td>\n",
       "      <td>38.24</td>\n",
       "    </tr>\n",
       "  </tbody>\n",
       "</table>\n",
       "</div>"
      ],
      "text/plain": [
       "          Price                   \n",
       "          count      mean      sum\n",
       "Age_Range                         \n",
       "<10          23  3.353478    77.13\n",
       "10-14        28  2.956429    82.78\n",
       "15-19       135  3.040074   410.41\n",
       "20-24       365  3.052219  1114.06\n",
       "25-29       101  2.900990   293.00\n",
       "30-34        73  2.931507   214.00\n",
       "35-39        41  3.601707   147.67\n",
       "40+          13  2.941538    38.24"
      ]
     },
     "execution_count": 49,
     "metadata": {},
     "output_type": "execute_result"
    }
   ],
   "source": [
    "grouped_df = gender_sn_age.groupby([\"Age_Range\"]).agg({\"Price\": [\"count\",\"mean\", \"sum\"]})\n",
    "\n",
    "\n",
    "grouped_df"
   ]
  },
  {
   "cell_type": "code",
   "execution_count": 57,
   "metadata": {},
   "outputs": [
    {
     "ename": "SyntaxError",
     "evalue": "EOL while scanning string literal (<ipython-input-57-c071381fb7f1>, line 8)",
     "output_type": "error",
     "traceback": [
      "\u001b[0;36m  File \u001b[0;32m\"<ipython-input-57-c071381fb7f1>\"\u001b[0;36m, line \u001b[0;32m8\u001b[0m\n\u001b[0;31m    \"Total Purchase Value\"\"total_purchase_age}\u001b[0m\n\u001b[0m                                              ^\u001b[0m\n\u001b[0;31mSyntaxError\u001b[0m\u001b[0;31m:\u001b[0m EOL while scanning string literal\n"
     ]
    }
   ],
   "source": [
    "grouped_df = gender_sn_age.groupby([\"Age_Range\"]).agg({\"Price\": [\"count\",\"mean\", \"sum\"]})\n",
    "purchase_count_age =  grouped_df[\"Purchase ID\"].count()\n",
    "avg_purchase_price_age = grouped_df[\"Price\"].mean()\n",
    "total_purchase_age = grouped_df[\"Price\"].sum()\n",
    "\n",
    "purchasing_analysis_age = pd.DataFrame({\"Purchase Count\": purchase_count_age,\n",
    "                                        \"Average Purchase Price\": avg_purchase_price_age,\n",
    "                                        \"Total Purchase Value\"\"total_purchase_age}\n",
    "\n",
    "                                       \n",
    "                                       \n",
    "purchasing_analysis_age[\"Average Purchase Price\"] = purchasing_analysis_age[\"Average Purchase Price\"].map(\"${:,.2f}\".format)\n",
    "purchasing_analysis_age[\"Total Purchase Value\"] = purchasing_analysis_age[\"Total Purchase Value\"].map(\"${:,.2f}\".format)\n",
    "# purchasing_analysis_age[\"Avg Total Purchase per Person\"] = purchasing_analysis_age[\"Avg Total Purchase per Person\"].map(\"${:,.2f}\".format)\n",
    "\n",
    "purchasing_analysis_age"
   ]
  },
  {
   "cell_type": "code",
   "execution_count": 45,
   "metadata": {},
   "outputs": [
    {
     "data": {
      "text/html": [
       "<style  type=\"text/css\" >\n",
       "</style><table id=\"T_ea1ef20a_f56d_11ea_8d90_42010a8a0002\" ><thead>    <tr>        <th class=\"blank level0\" ></th>        <th class=\"col_heading level0 col0\" >Purchase Count</th>        <th class=\"col_heading level0 col1\" >Average Purchase Price</th>        <th class=\"col_heading level0 col2\" >Total Purchase Value</th>    </tr>    <tr>        <th class=\"index_name level0\" >SN</th>        <th class=\"blank\" ></th>        <th class=\"blank\" ></th>        <th class=\"blank\" ></th>    </tr></thead><tbody>\n",
       "                <tr>\n",
       "                        <th id=\"T_ea1ef20a_f56d_11ea_8d90_42010a8a0002level0_row0\" class=\"row_heading level0 row0\" >Lisosia93</th>\n",
       "                        <td id=\"T_ea1ef20a_f56d_11ea_8d90_42010a8a0002row0_col0\" class=\"data row0 col0\" >5</td>\n",
       "                        <td id=\"T_ea1ef20a_f56d_11ea_8d90_42010a8a0002row0_col1\" class=\"data row0 col1\" >$3.79</td>\n",
       "                        <td id=\"T_ea1ef20a_f56d_11ea_8d90_42010a8a0002row0_col2\" class=\"data row0 col2\" >$18.96</td>\n",
       "            </tr>\n",
       "            <tr>\n",
       "                        <th id=\"T_ea1ef20a_f56d_11ea_8d90_42010a8a0002level0_row1\" class=\"row_heading level0 row1\" >Idastidru52</th>\n",
       "                        <td id=\"T_ea1ef20a_f56d_11ea_8d90_42010a8a0002row1_col0\" class=\"data row1 col0\" >4</td>\n",
       "                        <td id=\"T_ea1ef20a_f56d_11ea_8d90_42010a8a0002row1_col1\" class=\"data row1 col1\" >$3.86</td>\n",
       "                        <td id=\"T_ea1ef20a_f56d_11ea_8d90_42010a8a0002row1_col2\" class=\"data row1 col2\" >$15.45</td>\n",
       "            </tr>\n",
       "            <tr>\n",
       "                        <th id=\"T_ea1ef20a_f56d_11ea_8d90_42010a8a0002level0_row2\" class=\"row_heading level0 row2\" >Chamjask73</th>\n",
       "                        <td id=\"T_ea1ef20a_f56d_11ea_8d90_42010a8a0002row2_col0\" class=\"data row2 col0\" >3</td>\n",
       "                        <td id=\"T_ea1ef20a_f56d_11ea_8d90_42010a8a0002row2_col1\" class=\"data row2 col1\" >$4.61</td>\n",
       "                        <td id=\"T_ea1ef20a_f56d_11ea_8d90_42010a8a0002row2_col2\" class=\"data row2 col2\" >$13.83</td>\n",
       "            </tr>\n",
       "            <tr>\n",
       "                        <th id=\"T_ea1ef20a_f56d_11ea_8d90_42010a8a0002level0_row3\" class=\"row_heading level0 row3\" >Iral74</th>\n",
       "                        <td id=\"T_ea1ef20a_f56d_11ea_8d90_42010a8a0002row3_col0\" class=\"data row3 col0\" >4</td>\n",
       "                        <td id=\"T_ea1ef20a_f56d_11ea_8d90_42010a8a0002row3_col1\" class=\"data row3 col1\" >$3.40</td>\n",
       "                        <td id=\"T_ea1ef20a_f56d_11ea_8d90_42010a8a0002row3_col2\" class=\"data row3 col2\" >$13.62</td>\n",
       "            </tr>\n",
       "            <tr>\n",
       "                        <th id=\"T_ea1ef20a_f56d_11ea_8d90_42010a8a0002level0_row4\" class=\"row_heading level0 row4\" >Iskadarya95</th>\n",
       "                        <td id=\"T_ea1ef20a_f56d_11ea_8d90_42010a8a0002row4_col0\" class=\"data row4 col0\" >3</td>\n",
       "                        <td id=\"T_ea1ef20a_f56d_11ea_8d90_42010a8a0002row4_col1\" class=\"data row4 col1\" >$4.37</td>\n",
       "                        <td id=\"T_ea1ef20a_f56d_11ea_8d90_42010a8a0002row4_col2\" class=\"data row4 col2\" >$13.10</td>\n",
       "            </tr>\n",
       "    </tbody></table>"
      ],
      "text/plain": [
       "<pandas.io.formats.style.Styler at 0x7f267940c910>"
      ]
     },
     "execution_count": 45,
     "metadata": {},
     "output_type": "execute_result"
    }
   ],
   "source": [
    "top_stats = purchase_data.groupby(\"SN\")\n",
    "purchase_count_spender = top_stats[\"Purchase ID\"].count()\n",
    "avg_purchase_price_spender = top_stats[\"Price\"].mean()\n",
    "purchase_total_spender = top_stats[\"Price\"].sum()\n",
    "top_spenders = pd.DataFrame({\"Purchase Count\": purchase_count_spender,\n",
    "                             \"Average Purchase Price\": avg_purchase_price_spender,\n",
    "                             \"Total Purchase Value\":purchase_total_spender})\n",
    "\n",
    "\n",
    "formatted_spenders = top_spenders.sort_values([\"Total Purchase Value\"], ascending=False).head()\n",
    "\n",
    "\n",
    "formatted_spenders.style.format({\"Average Purchase Total\":\"${:,.2f}\",\n",
    "                                 \"Average Purchase Price\":\"${:,.2f}\", \n",
    "                                 \"Total Purchase Value\":\"${:,.2f}\"})"
   ]
  },
  {
   "cell_type": "code",
   "execution_count": 46,
   "metadata": {},
   "outputs": [
    {
     "data": {
      "text/html": [
       "<style  type=\"text/css\" >\n",
       "</style><table id=\"T_172a0ff0_f56e_11ea_8d90_42010a8a0002\" ><thead>    <tr>        <th class=\"blank\" ></th>        <th class=\"blank level0\" ></th>        <th class=\"col_heading level0 col0\" >Purchase Count</th>        <th class=\"col_heading level0 col1\" >Item Price</th>        <th class=\"col_heading level0 col2\" >Total Purchase Value</th>    </tr>    <tr>        <th class=\"index_name level0\" >Item ID</th>        <th class=\"index_name level1\" >Item Name</th>        <th class=\"blank\" ></th>        <th class=\"blank\" ></th>        <th class=\"blank\" ></th>    </tr></thead><tbody>\n",
       "                <tr>\n",
       "                        <th id=\"T_172a0ff0_f56e_11ea_8d90_42010a8a0002level0_row0\" class=\"row_heading level0 row0\" >178</th>\n",
       "                        <th id=\"T_172a0ff0_f56e_11ea_8d90_42010a8a0002level1_row0\" class=\"row_heading level1 row0\" >Oathbreaker, Last Hope of the Breaking Storm</th>\n",
       "                        <td id=\"T_172a0ff0_f56e_11ea_8d90_42010a8a0002row0_col0\" class=\"data row0 col0\" >12</td>\n",
       "                        <td id=\"T_172a0ff0_f56e_11ea_8d90_42010a8a0002row0_col1\" class=\"data row0 col1\" >$4.23</td>\n",
       "                        <td id=\"T_172a0ff0_f56e_11ea_8d90_42010a8a0002row0_col2\" class=\"data row0 col2\" >$50.76</td>\n",
       "            </tr>\n",
       "            <tr>\n",
       "                        <th id=\"T_172a0ff0_f56e_11ea_8d90_42010a8a0002level0_row1\" class=\"row_heading level0 row1\" >145</th>\n",
       "                        <th id=\"T_172a0ff0_f56e_11ea_8d90_42010a8a0002level1_row1\" class=\"row_heading level1 row1\" >Fiery Glass Crusader</th>\n",
       "                        <td id=\"T_172a0ff0_f56e_11ea_8d90_42010a8a0002row1_col0\" class=\"data row1 col0\" >9</td>\n",
       "                        <td id=\"T_172a0ff0_f56e_11ea_8d90_42010a8a0002row1_col1\" class=\"data row1 col1\" >$4.58</td>\n",
       "                        <td id=\"T_172a0ff0_f56e_11ea_8d90_42010a8a0002row1_col2\" class=\"data row1 col2\" >$41.22</td>\n",
       "            </tr>\n",
       "            <tr>\n",
       "                        <th id=\"T_172a0ff0_f56e_11ea_8d90_42010a8a0002level0_row2\" class=\"row_heading level0 row2\" >108</th>\n",
       "                        <th id=\"T_172a0ff0_f56e_11ea_8d90_42010a8a0002level1_row2\" class=\"row_heading level1 row2\" >Extraction, Quickblade Of Trembling Hands</th>\n",
       "                        <td id=\"T_172a0ff0_f56e_11ea_8d90_42010a8a0002row2_col0\" class=\"data row2 col0\" >9</td>\n",
       "                        <td id=\"T_172a0ff0_f56e_11ea_8d90_42010a8a0002row2_col1\" class=\"data row2 col1\" >$3.53</td>\n",
       "                        <td id=\"T_172a0ff0_f56e_11ea_8d90_42010a8a0002row2_col2\" class=\"data row2 col2\" >$31.77</td>\n",
       "            </tr>\n",
       "            <tr>\n",
       "                        <th id=\"T_172a0ff0_f56e_11ea_8d90_42010a8a0002level0_row3\" class=\"row_heading level0 row3\" >82</th>\n",
       "                        <th id=\"T_172a0ff0_f56e_11ea_8d90_42010a8a0002level1_row3\" class=\"row_heading level1 row3\" >Nirvana</th>\n",
       "                        <td id=\"T_172a0ff0_f56e_11ea_8d90_42010a8a0002row3_col0\" class=\"data row3 col0\" >9</td>\n",
       "                        <td id=\"T_172a0ff0_f56e_11ea_8d90_42010a8a0002row3_col1\" class=\"data row3 col1\" >$4.90</td>\n",
       "                        <td id=\"T_172a0ff0_f56e_11ea_8d90_42010a8a0002row3_col2\" class=\"data row3 col2\" >$44.10</td>\n",
       "            </tr>\n",
       "            <tr>\n",
       "                        <th id=\"T_172a0ff0_f56e_11ea_8d90_42010a8a0002level0_row4\" class=\"row_heading level0 row4\" >19</th>\n",
       "                        <th id=\"T_172a0ff0_f56e_11ea_8d90_42010a8a0002level1_row4\" class=\"row_heading level1 row4\" >Pursuit, Cudgel of Necromancy</th>\n",
       "                        <td id=\"T_172a0ff0_f56e_11ea_8d90_42010a8a0002row4_col0\" class=\"data row4 col0\" >8</td>\n",
       "                        <td id=\"T_172a0ff0_f56e_11ea_8d90_42010a8a0002row4_col1\" class=\"data row4 col1\" >$1.02</td>\n",
       "                        <td id=\"T_172a0ff0_f56e_11ea_8d90_42010a8a0002row4_col2\" class=\"data row4 col2\" >$8.16</td>\n",
       "            </tr>\n",
       "    </tbody></table>"
      ],
      "text/plain": [
       "<pandas.io.formats.style.Styler at 0x7f267936f550>"
      ]
     },
     "execution_count": 46,
     "metadata": {},
     "output_type": "execute_result"
    }
   ],
   "source": [
    "items = purchase_data[[\"Item ID\", \"Item Name\", \"Price\"]]\n",
    "item_stats = items.groupby([\"Item ID\",\"Item Name\"])\n",
    "\n",
    "# Count the number of times an item has been purchased \n",
    "purchase_count_item = item_stats[\"Price\"].count()\n",
    "\n",
    "purchase_value = (item_stats[\"Price\"].sum()) \n",
    "item_price = purchase_value/purchase_count_item\n",
    "most_popular_items = pd.DataFrame({\"Purchase Count\": purchase_count_item, \n",
    "                                   \"Item Price\": item_price,\n",
    "                                   \"Total Purchase Value\":purchase_value})\n",
    "\n",
    "popular_formatted = most_popular_items.sort_values([\"Purchase Count\"], ascending=False).head()\n",
    "\n",
    "popular_formatted.style.format({\"Item Price\":\"${:,.2f}\",\n",
    "                                \"Total Purchase Value\":\"${:,.2f}\"})"
   ]
  },
  {
   "cell_type": "code",
   "execution_count": 48,
   "metadata": {},
   "outputs": [
    {
     "data": {
      "text/html": [
       "<style  type=\"text/css\" >\n",
       "</style><table id=\"T_cdcff6d4_f56e_11ea_8d90_42010a8a0002\" ><thead>    <tr>        <th class=\"blank\" ></th>        <th class=\"blank level0\" ></th>        <th class=\"col_heading level0 col0\" >Purchase Count</th>        <th class=\"col_heading level0 col1\" >Item Price</th>        <th class=\"col_heading level0 col2\" >Total Purchase Value</th>    </tr>    <tr>        <th class=\"index_name level0\" >Item ID</th>        <th class=\"index_name level1\" >Item Name</th>        <th class=\"blank\" ></th>        <th class=\"blank\" ></th>        <th class=\"blank\" ></th>    </tr></thead><tbody>\n",
       "                <tr>\n",
       "                        <th id=\"T_cdcff6d4_f56e_11ea_8d90_42010a8a0002level0_row0\" class=\"row_heading level0 row0\" >178</th>\n",
       "                        <th id=\"T_cdcff6d4_f56e_11ea_8d90_42010a8a0002level1_row0\" class=\"row_heading level1 row0\" >Oathbreaker, Last Hope of the Breaking Storm</th>\n",
       "                        <td id=\"T_cdcff6d4_f56e_11ea_8d90_42010a8a0002row0_col0\" class=\"data row0 col0\" >12</td>\n",
       "                        <td id=\"T_cdcff6d4_f56e_11ea_8d90_42010a8a0002row0_col1\" class=\"data row0 col1\" >$4.23</td>\n",
       "                        <td id=\"T_cdcff6d4_f56e_11ea_8d90_42010a8a0002row0_col2\" class=\"data row0 col2\" >$50.76</td>\n",
       "            </tr>\n",
       "            <tr>\n",
       "                        <th id=\"T_cdcff6d4_f56e_11ea_8d90_42010a8a0002level0_row1\" class=\"row_heading level0 row1\" >82</th>\n",
       "                        <th id=\"T_cdcff6d4_f56e_11ea_8d90_42010a8a0002level1_row1\" class=\"row_heading level1 row1\" >Nirvana</th>\n",
       "                        <td id=\"T_cdcff6d4_f56e_11ea_8d90_42010a8a0002row1_col0\" class=\"data row1 col0\" >9</td>\n",
       "                        <td id=\"T_cdcff6d4_f56e_11ea_8d90_42010a8a0002row1_col1\" class=\"data row1 col1\" >$4.90</td>\n",
       "                        <td id=\"T_cdcff6d4_f56e_11ea_8d90_42010a8a0002row1_col2\" class=\"data row1 col2\" >$44.10</td>\n",
       "            </tr>\n",
       "            <tr>\n",
       "                        <th id=\"T_cdcff6d4_f56e_11ea_8d90_42010a8a0002level0_row2\" class=\"row_heading level0 row2\" >145</th>\n",
       "                        <th id=\"T_cdcff6d4_f56e_11ea_8d90_42010a8a0002level1_row2\" class=\"row_heading level1 row2\" >Fiery Glass Crusader</th>\n",
       "                        <td id=\"T_cdcff6d4_f56e_11ea_8d90_42010a8a0002row2_col0\" class=\"data row2 col0\" >9</td>\n",
       "                        <td id=\"T_cdcff6d4_f56e_11ea_8d90_42010a8a0002row2_col1\" class=\"data row2 col1\" >$4.58</td>\n",
       "                        <td id=\"T_cdcff6d4_f56e_11ea_8d90_42010a8a0002row2_col2\" class=\"data row2 col2\" >$41.22</td>\n",
       "            </tr>\n",
       "            <tr>\n",
       "                        <th id=\"T_cdcff6d4_f56e_11ea_8d90_42010a8a0002level0_row3\" class=\"row_heading level0 row3\" >92</th>\n",
       "                        <th id=\"T_cdcff6d4_f56e_11ea_8d90_42010a8a0002level1_row3\" class=\"row_heading level1 row3\" >Final Critic</th>\n",
       "                        <td id=\"T_cdcff6d4_f56e_11ea_8d90_42010a8a0002row3_col0\" class=\"data row3 col0\" >8</td>\n",
       "                        <td id=\"T_cdcff6d4_f56e_11ea_8d90_42010a8a0002row3_col1\" class=\"data row3 col1\" >$4.88</td>\n",
       "                        <td id=\"T_cdcff6d4_f56e_11ea_8d90_42010a8a0002row3_col2\" class=\"data row3 col2\" >$39.04</td>\n",
       "            </tr>\n",
       "            <tr>\n",
       "                        <th id=\"T_cdcff6d4_f56e_11ea_8d90_42010a8a0002level0_row4\" class=\"row_heading level0 row4\" >103</th>\n",
       "                        <th id=\"T_cdcff6d4_f56e_11ea_8d90_42010a8a0002level1_row4\" class=\"row_heading level1 row4\" >Singed Scalpel</th>\n",
       "                        <td id=\"T_cdcff6d4_f56e_11ea_8d90_42010a8a0002row4_col0\" class=\"data row4 col0\" >8</td>\n",
       "                        <td id=\"T_cdcff6d4_f56e_11ea_8d90_42010a8a0002row4_col1\" class=\"data row4 col1\" >$4.35</td>\n",
       "                        <td id=\"T_cdcff6d4_f56e_11ea_8d90_42010a8a0002row4_col2\" class=\"data row4 col2\" >$34.80</td>\n",
       "            </tr>\n",
       "    </tbody></table>"
      ],
      "text/plain": [
       "<pandas.io.formats.style.Styler at 0x7f26794d97d0>"
      ]
     },
     "execution_count": 48,
     "metadata": {},
     "output_type": "execute_result"
    }
   ],
   "source": [
    "popular_formatted = most_popular_items.sort_values([\"Total Purchase Value\"],\n",
    "                                                   ascending=False).head()\n",
    "\n",
    "popular_formatted.style.format({\"Item Price\":\"${:,.2f}\",\n",
    "                                \"Total Purchase Value\":\"${:,.2f}\"})"
   ]
  },
  {
   "cell_type": "code",
   "execution_count": null,
   "metadata": {},
   "outputs": [],
   "source": []
  }
 ],
 "metadata": {
  "environment": {
   "name": "common-cpu.m54",
   "type": "gcloud",
   "uri": "gcr.io/deeplearning-platform-release/base-cpu:m54"
  },
  "kernelspec": {
   "display_name": "Python 3",
   "language": "python",
   "name": "python3"
  },
  "language_info": {
   "codemirror_mode": {
    "name": "ipython",
    "version": 3
   },
   "file_extension": ".py",
   "mimetype": "text/x-python",
   "name": "python",
   "nbconvert_exporter": "python",
   "pygments_lexer": "ipython3",
   "version": "3.7.8"
  }
 },
 "nbformat": 4,
 "nbformat_minor": 4
}
